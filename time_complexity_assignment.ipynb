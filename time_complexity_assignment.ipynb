{
 "cells": [
  {
   "cell_type": "code",
   "execution_count": 3,
   "id": "d82721e1-b487-48b1-8894-c7baa0a439f9",
   "metadata": {},
   "outputs": [],
   "source": [
    "'''Problem 1 :\n",
    "def quicksort(arr):\n",
    "if len(arr) <= 1:\n",
    "return arr\n",
    "pivot = arr[len(arr) // 2]\n",
    "left = [x for x in arr if x < pivot]\n",
    "middle = [x for x in arr if x == pivot]\n",
    "right = [x for x in arr if x > pivot]\n",
    "return quicksort(left) + middle + quicksort(right)'''\n",
    "\n",
    "# amns\n",
    "\n",
    "def quicksort(arr):\n",
    "    if len(arr) <= 1:\n",
    "        return arr\n",
    "    pivot = arr[len(arr) // 2]\n",
    "    left = [x for x in arr if x < pivot]\n",
    "    middle = [x for x in arr if x == pivot]\n",
    "    right = [x for x in arr if x > pivot]\n",
    "    return quicksort(left) + middle + quicksort(right)\n"
   ]
  },
  {
   "cell_type": "code",
   "execution_count": 4,
   "id": "08b5d266-6ee0-4d92-b09e-5c160ced7ba2",
   "metadata": {},
   "outputs": [],
   "source": [
    "'''q2  def nested_loop_example(matrix):\n",
    "rows, cols = len(matrix), len(matrix[0])\n",
    "total = 0\n",
    "for i in range(rows):\n",
    "for j in range(cols):\n",
    "total += matrix[i][j]\n",
    "return total'''\n",
    "\n",
    "# ans\n",
    "\n",
    "def nested_loop_example(matrix):\n",
    "    rows, cols = len(matrix), len(matrix[0])\n",
    "    total = 0\n",
    "    for i in range(rows):\n",
    "        for j in range(cols):\n",
    "            total += matrix[i][j]\n",
    "    return total\n"
   ]
  },
  {
   "cell_type": "code",
   "execution_count": 5,
   "id": "a6a751f6-2a54-4b12-bf50-2c5e98fa5e54",
   "metadata": {},
   "outputs": [],
   "source": [
    "'''q3 find time complexity of def example_function(arr):\n",
    "result = 0\n",
    "for element in arr:\n",
    "result += element\n",
    "return result'''\n",
    "\n",
    "# ans \n",
    "\n",
    "def example_function(arr):\n",
    "    result = 0\n",
    "    for element in arr:\n",
    "        result += element\n",
    "    return result\n"
   ]
  },
  {
   "cell_type": "code",
   "execution_count": 6,
   "id": "09e959f4-0df4-44e7-adfb-041ddbc32a5b",
   "metadata": {},
   "outputs": [],
   "source": [
    "'''q4 find time complexity of def longest_increasing_subsequence(nums):\n",
    "n = len(nums)\n",
    "lis = [1] * n\n",
    "for i in range(1, n):\n",
    "for j in range(0, i):\n",
    "if nums[i] > nums[j] and lis[i] < lis[j] + 1:\n",
    "lis[i] = lis[j] + 1\n",
    "return max(lis)'''\n",
    "\n",
    "# ans\n",
    "\n",
    "def longest_increasing_subsequence(nums):\n",
    "    n = len(nums)\n",
    "    lis = [1] * n\n",
    "    for i in range(1, n):\n",
    "        for j in range(0, i):\n",
    "            if nums[i] > nums[j] and lis[i] < lis[j] + 1:\n",
    "                lis[i] = lis[j] + 1\n",
    "    return max(lis)\n"
   ]
  },
  {
   "cell_type": "code",
   "execution_count": 7,
   "id": "9f6c4a36-7af4-4884-83fb-671e23c6f16f",
   "metadata": {},
   "outputs": [],
   "source": [
    "'''q5 find the time complexity  of def mysterious_function(arr):\n",
    "n = len(arr)\n",
    "result = 0\n",
    "for i in range(n):\n",
    "for j in range(i, n):\n",
    "result += arr[i] * arr[j]\n",
    "return result'''\n",
    "\n",
    "# ans \n",
    "\n",
    "def mysterious_function(arr):\n",
    "    n = len(arr)\n",
    "    result = 0\n",
    "    for i in range(n):\n",
    "        for j in range(i, n):\n",
    "            result += arr[i] * arr[j]\n",
    "    return result\n"
   ]
  },
  {
   "cell_type": "code",
   "execution_count": 9,
   "id": "14940aac-3315-451c-90f8-08288055dd37",
   "metadata": {},
   "outputs": [],
   "source": [
    "''' Write a recursive function to calculate the sum of digits of a given positive integer.\n",
    "sum_of_digits(123) -> 6'''\n",
    "\n",
    "# ans \n",
    "\n",
    "def sum_of_digits(n):\n",
    " \n",
    "    if n == 0:\n",
    "        return 0\n",
    "    else:\n",
    "        \n",
    "        return n % 10 + sum_of_digits(n // 10)\n",
    "\n"
   ]
  },
  {
   "cell_type": "code",
   "execution_count": 10,
   "id": "d3362ff6-db5b-4a6e-96e7-50e9e843a105",
   "metadata": {},
   "outputs": [
    {
     "name": "stdout",
     "output_type": "stream",
     "text": [
      "[0, 1, 1, 2, 3, 5]\n"
     ]
    }
   ],
   "source": [
    "'''Write a recursive function to generate the first n numbers of the Fibonacci series.\n",
    "fibonacci_series(6) -> [0, 1, 1, 2, 3, 5]'''\n",
    "\n",
    "# ans ==\n",
    "\n",
    "def fibonacci_series(n, a=0, b=1, result=None):\n",
    "  \n",
    "    if result is None:\n",
    "        result = []\n",
    "    \n",
    "  \n",
    "    if n == 0:\n",
    "        return result\n",
    "    \n",
    "    \n",
    "    result.append(a)\n",
    "    \n",
    "   \n",
    "    return fibonacci_series(n - 1, b, a + b, result)\n",
    "\n",
    "print(fibonacci_series(6))  \n"
   ]
  },
  {
   "cell_type": "code",
   "execution_count": 11,
   "id": "083629d2-de33-43b1-bb71-77123325e1fe",
   "metadata": {},
   "outputs": [
    {
     "name": "stdout",
     "output_type": "stream",
     "text": [
      "True\n"
     ]
    }
   ],
   "source": [
    "'''Given a set of positive integers and a target sum, write a recursive function to determine if there exists a subset\n",
    "of the integers that adds up to the target sum.\n",
    "subset_sum([3, 34, 4, 12, 5, 2], 9) -> True'''\n",
    "\n",
    "# ans\n",
    "\n",
    "def subset_sum(nums, target):\n",
    "\n",
    "    if target == 0:\n",
    "        return True\n",
    " \n",
    "    if not nums or target < 0:\n",
    "        return False\n",
    "    \n",
    "\n",
    "    include = subset_sum(nums[1:], target - nums[0])\n",
    "    \n",
    "  \n",
    "    exclude = subset_sum(nums[1:], target)\n",
    "    \n",
    " \n",
    "    return include or exclude\n",
    "\n",
    "\n",
    "print(subset_sum([3, 34, 4, 12, 5, 2], 9))  \n"
   ]
  },
  {
   "cell_type": "code",
   "execution_count": 12,
   "id": "1e9bc5ca-00f3-435d-af44-e9e2a9bdfb26",
   "metadata": {},
   "outputs": [
    {
     "name": "stdout",
     "output_type": "stream",
     "text": [
      "True\n"
     ]
    }
   ],
   "source": [
    "'''Given a non-empty string and a dictionary of words, write a recursive function to determine if the string can be\n",
    "segmented into a space-separated sequence of dictionary words.\n",
    "word_break( leetcode , [ leet , code ]) -> True'''\n",
    "\n",
    "# ans \n",
    "\n",
    "def word_break(s, word_dict):\n",
    "\n",
    "    def can_segment(start):\n",
    "       \n",
    "        if start == len(s):\n",
    "            return True\n",
    "        \n",
    "        \n",
    "        for end in range(start + 1, len(s) + 1):\n",
    "          \n",
    "            if s[start:end] in word_dict:\n",
    "            \n",
    "                if can_segment(end):\n",
    "                    return True\n",
    "        \n",
    "       \n",
    "        return False\n",
    "\n",
    "   \n",
    "    word_dict = set(word_dict)\n",
    "    return can_segment(0)\n",
    "\n",
    "\n",
    "print(word_break(\"leetcode\", [\"leet\", \"code\"]))  \n"
   ]
  },
  {
   "cell_type": "code",
   "execution_count": 13,
   "id": "5d23e1cc-77b3-46f5-bbf7-b46841ca8dd1",
   "metadata": {},
   "outputs": [
    {
     "name": "stdout",
     "output_type": "stream",
     "text": [
      ".Q.....QQ.....Q.\n",
      "\n",
      "..Q.Q......Q.Q..\n",
      "\n"
     ]
    }
   ],
   "source": [
    "'''Implement a recursive function to solve the N Queens problem, where you have to place N queens on an N×N\n",
    "chessboard in such a way that no two queens threaten each other.\n",
    "n_queens(4)\n",
    "[\n",
    "[\".Q..\",\n",
    "\"...Q\",\n",
    "\"Q...\",\n",
    "\"..Q.\"],\n",
    "[\"..Q.\",\n",
    "\"Q...\",\n",
    "\"...Q\",\n",
    "\".Q..\"]\n",
    "]'''\n",
    "\n",
    "# ans\n",
    "\n",
    "def n_queens(n):\n",
    "    def is_valid(board, row, col):\n",
    "       \n",
    "        for i in range(row):\n",
    "            if board[i] == col or \\\n",
    "               board[i] - i == col - row or \\\n",
    "               board[i] + i == col + row:\n",
    "                return False\n",
    "        return True\n",
    "\n",
    "    def solve(board, row):\n",
    "        if row == n:\n",
    "         \n",
    "            result.append([\"\".join(\".\" * c + \"Q\" + \".\" * (n - c - 1) for c in board)])\n",
    "            return\n",
    "        \n",
    "        for col in range(n):\n",
    "            if is_valid(board, row, col):\n",
    "                board[row] = col\n",
    "                solve(board, row + 1)\n",
    "                board[row] = -1 \n",
    "\n",
    "    result = []\n",
    "    board = [-1] * n  \n",
    "    solve(board, 0)\n",
    "    return result\n",
    "\n",
    "\n",
    "solutions = n_queens(4)\n",
    "for solution in solutions:\n",
    "    for line in solution:\n",
    "        print(line)\n",
    "    print()\n"
   ]
  },
  {
   "cell_type": "code",
   "execution_count": null,
   "id": "f30a02ee-657c-4429-a738-c428840073bc",
   "metadata": {},
   "outputs": [],
   "source": []
  }
 ],
 "metadata": {
  "kernelspec": {
   "display_name": "Python 3 (ipykernel)",
   "language": "python",
   "name": "python3"
  },
  "language_info": {
   "codemirror_mode": {
    "name": "ipython",
    "version": 3
   },
   "file_extension": ".py",
   "mimetype": "text/x-python",
   "name": "python",
   "nbconvert_exporter": "python",
   "pygments_lexer": "ipython3",
   "version": "3.12.0"
  }
 },
 "nbformat": 4,
 "nbformat_minor": 5
}
